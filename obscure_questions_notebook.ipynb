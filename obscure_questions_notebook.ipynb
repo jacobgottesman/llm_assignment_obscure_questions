{
 "cells": [
  {
   "cell_type": "code",
   "execution_count": 1,
   "metadata": {},
   "outputs": [
    {
     "name": "stderr",
     "output_type": "stream",
     "text": [
      "/opt/anaconda3/envs/llm-final-project/lib/python3.11/site-packages/tqdm/auto.py:21: TqdmWarning: IProgress not found. Please update jupyter and ipywidgets. See https://ipywidgets.readthedocs.io/en/stable/user_install.html\n",
      "  from .autonotebook import tqdm as notebook_tqdm\n"
     ]
    }
   ],
   "source": [
    "from document_retrieval import *\n",
    "from obscure_questions import *"
   ]
  },
  {
   "cell_type": "code",
   "execution_count": 2,
   "metadata": {},
   "outputs": [
    {
     "name": "stderr",
     "output_type": "stream",
     "text": [
      " 58%|█████▊    | 29/50 [24:47<31:06, 88.89s/it]"
     ]
    },
    {
     "name": "stdout",
     "output_type": "stream",
     "text": [
      "Failed to extract answer for question: 28\n"
     ]
    },
    {
     "name": "stderr",
     "output_type": "stream",
     "text": [
      " 72%|███████▏  | 36/50 [44:12<37:28, 160.60s/it]"
     ]
    },
    {
     "name": "stdout",
     "output_type": "stream",
     "text": [
      "Failed to extract answer for question: 35\n"
     ]
    },
    {
     "name": "stderr",
     "output_type": "stream",
     "text": [
      "100%|██████████| 50/50 [1:15:18<00:00, 90.38s/it] "
     ]
    },
    {
     "name": "stdout",
     "output_type": "stream",
     "text": [
      "Solved 26 questions\n",
      "Solved questions: [4, 5, 7, 11, 13, 14, 15, 18, 21, 22, 23, 24, 26, 27, 29, 32, 33, 34, 36, 37, 38, 43, 44, 46, 47, 48]\n"
     ]
    },
    {
     "name": "stderr",
     "output_type": "stream",
     "text": [
      "\n"
     ]
    }
   ],
   "source": [
    "# Load datasets\n",
    "wiki = load_dataset(\"nuprl/engineering-llm-systems\", \n",
    "                    name=\"wikipedia-northeastern-university\", \n",
    "                    split=\"test\")\n",
    "\n",
    "questions = load_dataset(\"nuprl/engineering-llm-systems\", \n",
    "                        name=\"obscure_questions\", \n",
    "                        split=\"tiny\")\n",
    "\n",
    "\n",
    "# Answer questions\n",
    "num_correct = 0\n",
    "solved_questions = []\n",
    "for (i, question) in tqdm(enumerate(questions), total=len(questions)):\n",
    "    prompt = question['prompt']\n",
    "    choices = question['choices']\n",
    "    answer = question['correct_answer']\n",
    "\n",
    "    model_answer, resp = answer_query(prompt, choices, wiki)\n",
    "\n",
    "    if not model_answer:\n",
    "        print(f\"Failed to extract answer for question: {i}\")\n",
    "    \n",
    "    # Check answer\n",
    "    if model_answer == answer:\n",
    "        num_correct += 1\n",
    "        solved_questions.append(i)\n",
    "\n",
    "# Print results\n",
    "print(f\"Solved {num_correct} questions\")\n",
    "print(f\"Solved questions: {solved_questions}\")"
   ]
  }
 ],
 "metadata": {
  "kernelspec": {
   "display_name": "llm-final-project",
   "language": "python",
   "name": "python3"
  },
  "language_info": {
   "codemirror_mode": {
    "name": "ipython",
    "version": 3
   },
   "file_extension": ".py",
   "mimetype": "text/x-python",
   "name": "python",
   "nbconvert_exporter": "python",
   "pygments_lexer": "ipython3",
   "version": "3.11.11"
  }
 },
 "nbformat": 4,
 "nbformat_minor": 2
}
